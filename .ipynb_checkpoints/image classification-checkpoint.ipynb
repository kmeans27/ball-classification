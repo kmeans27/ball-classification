{
 "cells": [
  {
   "cell_type": "code",
   "execution_count": 17,
   "id": "6f830bfe",
   "metadata": {},
   "outputs": [],
   "source": [
    "import tensorflow as tf\n",
    "from tensorflow import keras\n",
    "from tensorflow.keras import layers\n",
    "from tensorflow.keras.preprocessing.image import ImageDataGenerator"
   ]
  },
  {
   "cell_type": "code",
   "execution_count": 18,
   "id": "f45e8b54",
   "metadata": {},
   "outputs": [],
   "source": [
    "#define hyperparameter\n",
    "batch_size = 32\n",
    "img_size = (224, 224)\n",
    "num_classes = 30\n",
    "epochs = 10"
   ]
  },
  {
   "cell_type": "code",
   "execution_count": 19,
   "id": "73209f82",
   "metadata": {},
   "outputs": [
    {
     "name": "stdout",
     "output_type": "stream",
     "text": [
      "Found 2904 images belonging to 30 classes.\n",
      "Found 711 images belonging to 30 classes.\n"
     ]
    }
   ],
   "source": [
    "#load and preprocess data\n",
    "data_generator = ImageDataGenerator(\n",
    "    validation_split=0.2,\n",
    "    preprocessing_function=tf.keras.applications.mobilenet_v2.preprocess_input,)\n",
    "\n",
    "train_generator = data_generator.flow_from_directory(\n",
    "    directory=\"balls\",\n",
    "    target_size=img_size,\n",
    "    batch_size=batch_size,\n",
    "    class_mode=\"categorical\",\n",
    "    subset=\"training\",\n",
    ")\n",
    "\n",
    "validation_generator = data_generator.flow_from_directory(\n",
    "    directory=\"balls\",\n",
    "    target_size=img_size,\n",
    "    batch_size=batch_size,\n",
    "    class_mode=\"categorical\",\n",
    "    subset=\"validation\",\n",
    ")"
   ]
  },
  {
   "cell_type": "code",
   "execution_count": 20,
   "id": "d52e194f",
   "metadata": {},
   "outputs": [
    {
     "name": "stdout",
     "output_type": "stream",
     "text": [
      "WARNING:tensorflow:`input_shape` is undefined or non-square, or `rows` is not in [96, 128, 160, 192, 224]. Weights for input shape (224, 224) will be loaded as the default.\n",
      "Downloading data from https://storage.googleapis.com/tensorflow/keras-applications/mobilenet_v2/mobilenet_v2_weights_tf_dim_ordering_tf_kernels_1.0_224_no_top.h5\n",
      "9406464/9406464 [==============================] - 1s 0us/step\n"
     ]
    }
   ],
   "source": [
    "#define and train the model\n",
    "model = keras.Sequential(\n",
    "    [\n",
    "        layers.Input(shape=(img_size[0], img_size[1], 3)),\n",
    "        tf.keras.applications.MobileNetV2(\n",
    "            include_top=False, weights=\"imagenet\", input_tensor=None, pooling=\"avg\"\n",
    "        ),\n",
    "        layers.Flatten(),\n",
    "        layers.Dense(1024, activation=\"relu\"),\n",
    "        layers.Dropout(0.5),\n",
    "        layers.Dense(num_classes, activation=\"softmax\"),\n",
    "    ]\n",
    ")\n",
    "\n",
    "model.compile(optimizer=\"adam\", loss=\"categorical_crossentropy\", metrics=[\"accuracy\"])"
   ]
  },
  {
   "cell_type": "code",
   "execution_count": 21,
   "id": "237cde56",
   "metadata": {},
   "outputs": [
    {
     "name": "stdout",
     "output_type": "stream",
     "text": [
      "Epoch 1/10\n",
      "91/91 [==============================] - 89s 922ms/step - loss: 1.0596 - accuracy: 0.7252 - val_loss: 8.4369 - val_accuracy: 0.3376\n",
      "Epoch 2/10\n",
      "91/91 [==============================] - 83s 918ms/step - loss: 0.6327 - accuracy: 0.8344 - val_loss: 16.6400 - val_accuracy: 0.1646\n",
      "Epoch 3/10\n",
      "91/91 [==============================] - 83s 915ms/step - loss: 0.4779 - accuracy: 0.8712 - val_loss: 14.9929 - val_accuracy: 0.1927\n",
      "Epoch 4/10\n",
      "91/91 [==============================] - 83s 914ms/step - loss: 0.3506 - accuracy: 0.9046 - val_loss: 13.1560 - val_accuracy: 0.1772\n",
      "Epoch 5/10\n",
      "91/91 [==============================] - 83s 916ms/step - loss: 0.3075 - accuracy: 0.9263 - val_loss: 28.6270 - val_accuracy: 0.0478\n",
      "Epoch 6/10\n",
      "91/91 [==============================] - 83s 913ms/step - loss: 0.2797 - accuracy: 0.9308 - val_loss: 9.5991 - val_accuracy: 0.2208\n",
      "Epoch 7/10\n",
      "91/91 [==============================] - 83s 913ms/step - loss: 0.2105 - accuracy: 0.9432 - val_loss: 15.7891 - val_accuracy: 0.0956\n",
      "Epoch 8/10\n",
      "91/91 [==============================] - 83s 916ms/step - loss: 0.2688 - accuracy: 0.9294 - val_loss: 23.6590 - val_accuracy: 0.0675\n",
      "Epoch 9/10\n",
      "91/91 [==============================] - 83s 916ms/step - loss: 0.2614 - accuracy: 0.9304 - val_loss: 13.6850 - val_accuracy: 0.1533\n",
      "Epoch 10/10\n",
      "91/91 [==============================] - 83s 913ms/step - loss: 0.2267 - accuracy: 0.9411 - val_loss: 14.8363 - val_accuracy: 0.1660\n"
     ]
    },
    {
     "data": {
      "text/plain": [
       "<keras.callbacks.History at 0x28c5fa49f70>"
      ]
     },
     "execution_count": 21,
     "metadata": {},
     "output_type": "execute_result"
    }
   ],
   "source": [
    "model.fit(\n",
    "    train_generator,\n",
    "    epochs=epochs,\n",
    "    validation_data=validation_generator,\n",
    ")"
   ]
  },
  {
   "cell_type": "code",
   "execution_count": 23,
   "id": "ba1cba94",
   "metadata": {},
   "outputs": [
    {
     "name": "stdout",
     "output_type": "stream",
     "text": [
      "1/1 [==============================] - 0s 27ms/step\n",
      "12\n"
     ]
    }
   ],
   "source": [
    "img = keras.preprocessing.image.load_img(\"1.jpg\", target_size=img_size)\n",
    "img_array = keras.preprocessing.image.img_to_array(img)\n",
    "img_array = tf.expand_dims(img_array, 0)  # Create batch axis\n",
    "\n",
    "predictions = model.predict(img_array)\n",
    "predicted_class = predictions[0].argmax()\n",
    "print(predicted_class)"
   ]
  },
  {
   "cell_type": "code",
   "execution_count": null,
   "id": "7c55eaf7",
   "metadata": {},
   "outputs": [],
   "source": []
  }
 ],
 "metadata": {
  "kernelspec": {
   "display_name": "Python 3 (ipykernel)",
   "language": "python",
   "name": "python3"
  },
  "language_info": {
   "codemirror_mode": {
    "name": "ipython",
    "version": 3
   },
   "file_extension": ".py",
   "mimetype": "text/x-python",
   "name": "python",
   "nbconvert_exporter": "python",
   "pygments_lexer": "ipython3",
   "version": "3.9.13"
  }
 },
 "nbformat": 4,
 "nbformat_minor": 5
}
