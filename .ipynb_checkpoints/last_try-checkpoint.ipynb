{
 "cells": [
  {
   "cell_type": "code",
   "execution_count": 13,
   "id": "4d820125",
   "metadata": {},
   "outputs": [],
   "source": [
    "import os\n",
    "from keras.models import Sequential\n",
    "from keras.layers import Conv2D, MaxPooling2D, Flatten, Dense\n",
    "from keras.preprocessing.image import ImageDataGenerator"
   ]
  },
  {
   "cell_type": "code",
   "execution_count": 14,
   "id": "9c51c066",
   "metadata": {},
   "outputs": [],
   "source": [
    "train_dir = 'data/train'\n",
    "validation_dir = 'data/valid'\n",
    "test_dir = 'data/test'"
   ]
  },
  {
   "cell_type": "code",
   "execution_count": 15,
   "id": "b647cd2d",
   "metadata": {},
   "outputs": [],
   "source": [
    "# Define data augmentation\n",
    "train_datagen = ImageDataGenerator(\n",
    "    rescale=1./255,\n",
    "    rotation_range=20,\n",
    "    width_shift_range=0.1,\n",
    "    height_shift_range=0.1,\n",
    "    zoom_range=0.1,\n",
    "    horizontal_flip=True,\n",
    "    vertical_flip=True,\n",
    "    fill_mode='nearest'\n",
    ")\n",
    "\n",
    "test_datagen = ImageDataGenerator(rescale=1./255)"
   ]
  },
  {
   "cell_type": "code",
   "execution_count": 16,
   "id": "3cb611d1",
   "metadata": {},
   "outputs": [
    {
     "name": "stdout",
     "output_type": "stream",
     "text": [
      "Found 3615 images belonging to 30 classes.\n",
      "Found 150 images belonging to 30 classes.\n",
      "Found 150 images belonging to 30 classes.\n"
     ]
    }
   ],
   "source": [
    "# Load and preprocess the data\n",
    "train_generator = train_datagen.flow_from_directory(\n",
    "    train_dir,\n",
    "    target_size=(224, 224),\n",
    "    batch_size=32,\n",
    "    class_mode='categorical'\n",
    ")\n",
    "\n",
    "validation_generator = test_datagen.flow_from_directory(\n",
    "    validation_dir,\n",
    "    target_size=(224, 224),\n",
    "    batch_size=32,\n",
    "    class_mode='categorical'\n",
    ")\n",
    "\n",
    "test_generator = test_datagen.flow_from_directory(\n",
    "    test_dir,\n",
    "    target_size=(224, 224),\n",
    "    batch_size=32,\n",
    "    class_mode='categorical'\n",
    ")"
   ]
  },
  {
   "cell_type": "code",
   "execution_count": 17,
   "id": "6e89fe16",
   "metadata": {},
   "outputs": [],
   "source": [
    "# Define the model architecture\n",
    "model = Sequential()\n",
    "model.add(Conv2D(32, (3, 3), activation='relu', input_shape=(224, 224, 3)))\n",
    "model.add(MaxPooling2D((2, 2)))\n",
    "model.add(Conv2D(64, (3, 3), activation='relu'))\n",
    "model.add(MaxPooling2D((2, 2)))\n",
    "model.add(Conv2D(128, (3, 3), activation='relu'))\n",
    "model.add(MaxPooling2D((2, 2)))\n",
    "model.add(Conv2D(128, (3, 3), activation='relu'))\n",
    "model.add(MaxPooling2D((2, 2)))\n",
    "model.add(Flatten())\n",
    "model.add(Dense(512, activation='relu'))\n",
    "model.add(Dense(train_generator.num_classes, activation='softmax'))\n",
    "\n",
    "# Compile the model\n",
    "model.compile(loss='categorical_crossentropy',\n",
    "              optimizer='adam',\n",
    "              metrics=['accuracy'])"
   ]
  },
  {
   "cell_type": "code",
   "execution_count": 18,
   "id": "cee668b6",
   "metadata": {},
   "outputs": [
    {
     "name": "stdout",
     "output_type": "stream",
     "text": [
      "Epoch 1/50\n",
      "112/112 [==============================] - 47s 408ms/step - loss: 3.0864 - accuracy: 0.1405 - val_loss: 2.5403 - val_accuracy: 0.2733\n",
      "Epoch 2/50\n",
      "112/112 [==============================] - 46s 402ms/step - loss: 2.2696 - accuracy: 0.3743 - val_loss: 2.1379 - val_accuracy: 0.3933\n",
      "Epoch 3/50\n",
      "112/112 [==============================] - 45s 396ms/step - loss: 1.8215 - accuracy: 0.4830 - val_loss: 1.6420 - val_accuracy: 0.4667\n",
      "Epoch 4/50\n",
      "112/112 [==============================] - 45s 399ms/step - loss: 1.6394 - accuracy: 0.5306 - val_loss: 1.4960 - val_accuracy: 0.5400\n",
      "Epoch 5/50\n",
      "112/112 [==============================] - 45s 393ms/step - loss: 1.4124 - accuracy: 0.5856 - val_loss: 1.2249 - val_accuracy: 0.6067\n",
      "Epoch 6/50\n",
      "112/112 [==============================] - 44s 388ms/step - loss: 1.2799 - accuracy: 0.6260 - val_loss: 1.2625 - val_accuracy: 0.6600\n",
      "Epoch 7/50\n",
      "112/112 [==============================] - 44s 386ms/step - loss: 1.1970 - accuracy: 0.6479 - val_loss: 1.2643 - val_accuracy: 0.6667\n",
      "Epoch 8/50\n",
      "112/112 [==============================] - 44s 390ms/step - loss: 1.0794 - accuracy: 0.6730 - val_loss: 1.1282 - val_accuracy: 0.7200\n",
      "Epoch 9/50\n",
      "112/112 [==============================] - 45s 398ms/step - loss: 0.9892 - accuracy: 0.6999 - val_loss: 1.3538 - val_accuracy: 0.6067\n",
      "Epoch 10/50\n",
      "112/112 [==============================] - 45s 398ms/step - loss: 0.9245 - accuracy: 0.7156 - val_loss: 1.1031 - val_accuracy: 0.7133\n",
      "Epoch 11/50\n",
      "112/112 [==============================] - 45s 397ms/step - loss: 0.8677 - accuracy: 0.7416 - val_loss: 0.8505 - val_accuracy: 0.7400\n",
      "Epoch 12/50\n",
      "112/112 [==============================] - 45s 395ms/step - loss: 0.8171 - accuracy: 0.7450 - val_loss: 0.9492 - val_accuracy: 0.7000\n",
      "Epoch 13/50\n",
      "112/112 [==============================] - 44s 391ms/step - loss: 0.7604 - accuracy: 0.7663 - val_loss: 0.8183 - val_accuracy: 0.7733\n",
      "Epoch 14/50\n",
      "112/112 [==============================] - 45s 394ms/step - loss: 0.7211 - accuracy: 0.7754 - val_loss: 1.0342 - val_accuracy: 0.7067\n",
      "Epoch 15/50\n",
      "112/112 [==============================] - 45s 396ms/step - loss: 0.6863 - accuracy: 0.7903 - val_loss: 0.8071 - val_accuracy: 0.7667\n",
      "Epoch 16/50\n",
      "112/112 [==============================] - 45s 393ms/step - loss: 0.6251 - accuracy: 0.8072 - val_loss: 1.0331 - val_accuracy: 0.7200\n",
      "Epoch 17/50\n",
      "112/112 [==============================] - 45s 395ms/step - loss: 0.5964 - accuracy: 0.8210 - val_loss: 0.8997 - val_accuracy: 0.7333\n",
      "Epoch 18/50\n",
      "112/112 [==============================] - 44s 391ms/step - loss: 0.5568 - accuracy: 0.8263 - val_loss: 0.8208 - val_accuracy: 0.7667\n",
      "Epoch 19/50\n",
      "112/112 [==============================] - 45s 394ms/step - loss: 0.5519 - accuracy: 0.8285 - val_loss: 0.9531 - val_accuracy: 0.7200\n",
      "Epoch 20/50\n",
      "112/112 [==============================] - 45s 395ms/step - loss: 0.5590 - accuracy: 0.8207 - val_loss: 0.9250 - val_accuracy: 0.7533\n",
      "Epoch 21/50\n",
      "112/112 [==============================] - 44s 390ms/step - loss: 0.4969 - accuracy: 0.8473 - val_loss: 0.8712 - val_accuracy: 0.7600\n",
      "Epoch 22/50\n",
      "112/112 [==============================] - 44s 388ms/step - loss: 0.4563 - accuracy: 0.8548 - val_loss: 0.8638 - val_accuracy: 0.7400\n",
      "Epoch 23/50\n",
      "112/112 [==============================] - 45s 392ms/step - loss: 0.4430 - accuracy: 0.8600 - val_loss: 0.8596 - val_accuracy: 0.7800\n",
      "Epoch 24/50\n",
      "112/112 [==============================] - 45s 392ms/step - loss: 0.4167 - accuracy: 0.8631 - val_loss: 0.8224 - val_accuracy: 0.8067\n",
      "Epoch 25/50\n",
      "112/112 [==============================] - 44s 389ms/step - loss: 0.3836 - accuracy: 0.8791 - val_loss: 0.9142 - val_accuracy: 0.7933\n",
      "Epoch 26/50\n",
      "112/112 [==============================] - 44s 391ms/step - loss: 0.3945 - accuracy: 0.8694 - val_loss: 0.7905 - val_accuracy: 0.8067\n",
      "Epoch 27/50\n",
      "112/112 [==============================] - 45s 393ms/step - loss: 0.4282 - accuracy: 0.8661 - val_loss: 1.1029 - val_accuracy: 0.7200\n",
      "Epoch 28/50\n",
      "112/112 [==============================] - 44s 390ms/step - loss: 0.3832 - accuracy: 0.8780 - val_loss: 0.9202 - val_accuracy: 0.7800\n",
      "Epoch 29/50\n",
      "112/112 [==============================] - 44s 389ms/step - loss: 0.4087 - accuracy: 0.8700 - val_loss: 0.9445 - val_accuracy: 0.8133\n",
      "Epoch 30/50\n",
      "112/112 [==============================] - 44s 390ms/step - loss: 0.3223 - accuracy: 0.8943 - val_loss: 0.7141 - val_accuracy: 0.8333\n",
      "Epoch 31/50\n",
      "112/112 [==============================] - 44s 387ms/step - loss: 0.3253 - accuracy: 0.8891 - val_loss: 0.8816 - val_accuracy: 0.8000\n",
      "Epoch 32/50\n",
      "112/112 [==============================] - 44s 387ms/step - loss: 0.2945 - accuracy: 0.9054 - val_loss: 0.7405 - val_accuracy: 0.8333\n",
      "Epoch 33/50\n",
      "112/112 [==============================] - 44s 391ms/step - loss: 0.3520 - accuracy: 0.8855 - val_loss: 1.0313 - val_accuracy: 0.8067\n",
      "Epoch 34/50\n",
      "112/112 [==============================] - 44s 385ms/step - loss: 0.3121 - accuracy: 0.8943 - val_loss: 0.7766 - val_accuracy: 0.8067\n",
      "Epoch 35/50\n",
      "112/112 [==============================] - 44s 390ms/step - loss: 0.3385 - accuracy: 0.8932 - val_loss: 0.7157 - val_accuracy: 0.8267\n",
      "Epoch 36/50\n",
      "112/112 [==============================] - 44s 390ms/step - loss: 0.2808 - accuracy: 0.9082 - val_loss: 0.7231 - val_accuracy: 0.8267\n",
      "Epoch 37/50\n",
      "112/112 [==============================] - 44s 389ms/step - loss: 0.2586 - accuracy: 0.9167 - val_loss: 0.8360 - val_accuracy: 0.8000\n",
      "Epoch 38/50\n",
      "112/112 [==============================] - 44s 386ms/step - loss: 0.2386 - accuracy: 0.9223 - val_loss: 0.7813 - val_accuracy: 0.8333\n",
      "Epoch 39/50\n",
      "112/112 [==============================] - 44s 392ms/step - loss: 0.2724 - accuracy: 0.9079 - val_loss: 0.8534 - val_accuracy: 0.8067\n",
      "Epoch 40/50\n",
      "112/112 [==============================] - 45s 393ms/step - loss: 0.2533 - accuracy: 0.9120 - val_loss: 0.6369 - val_accuracy: 0.8533\n",
      "Epoch 41/50\n",
      "112/112 [==============================] - 44s 391ms/step - loss: 0.2605 - accuracy: 0.9118 - val_loss: 0.6629 - val_accuracy: 0.8533\n",
      "Epoch 42/50\n",
      "112/112 [==============================] - 44s 388ms/step - loss: 0.2120 - accuracy: 0.9336 - val_loss: 1.0790 - val_accuracy: 0.7933\n",
      "Epoch 43/50\n",
      "112/112 [==============================] - 44s 387ms/step - loss: 0.2684 - accuracy: 0.9142 - val_loss: 0.7003 - val_accuracy: 0.8467\n",
      "Epoch 44/50\n",
      "112/112 [==============================] - 44s 391ms/step - loss: 0.2448 - accuracy: 0.9176 - val_loss: 0.9862 - val_accuracy: 0.8067\n",
      "Epoch 45/50\n",
      "112/112 [==============================] - 44s 387ms/step - loss: 0.1940 - accuracy: 0.9342 - val_loss: 0.9657 - val_accuracy: 0.8000\n",
      "Epoch 46/50\n",
      "112/112 [==============================] - 44s 386ms/step - loss: 0.2004 - accuracy: 0.9311 - val_loss: 0.7642 - val_accuracy: 0.8333\n",
      "Epoch 47/50\n",
      "112/112 [==============================] - 43s 383ms/step - loss: 0.1934 - accuracy: 0.9361 - val_loss: 1.0368 - val_accuracy: 0.8067\n",
      "Epoch 48/50\n",
      "112/112 [==============================] - 44s 385ms/step - loss: 0.2132 - accuracy: 0.9286 - val_loss: 0.9581 - val_accuracy: 0.8067\n",
      "Epoch 49/50\n",
      "112/112 [==============================] - 44s 387ms/step - loss: 0.2232 - accuracy: 0.9300 - val_loss: 0.7459 - val_accuracy: 0.8000\n",
      "Epoch 50/50\n",
      "112/112 [==============================] - 43s 381ms/step - loss: 0.1885 - accuracy: 0.9347 - val_loss: 0.7388 - val_accuracy: 0.8667\n"
     ]
    }
   ],
   "source": [
    "# Train the model with data augmentation\n",
    "history = model.fit(\n",
    "    train_generator,\n",
    "    steps_per_epoch=train_generator.samples/train_generator.batch_size,\n",
    "    epochs=50,\n",
    "    validation_data=validation_generator,\n",
    "    validation_steps=validation_generator.samples/validation_generator.batch_size\n",
    ")"
   ]
  },
  {
   "cell_type": "code",
   "execution_count": 19,
   "id": "145b4520",
   "metadata": {},
   "outputs": [
    {
     "name": "stdout",
     "output_type": "stream",
     "text": [
      "Test accuracy: 76.00%\n"
     ]
    }
   ],
   "source": [
    "# Evaluate the model on the test set\n",
    "scores = model.evaluate(test_generator, verbose=0)\n",
    "print(\"Test accuracy: %.2f%%\" % (scores[1]*100))"
   ]
  },
  {
   "cell_type": "code",
   "execution_count": null,
   "id": "0b14b967",
   "metadata": {},
   "outputs": [],
   "source": []
  }
 ],
 "metadata": {
  "kernelspec": {
   "display_name": "Python 3 (ipykernel)",
   "language": "python",
   "name": "python3"
  },
  "language_info": {
   "codemirror_mode": {
    "name": "ipython",
    "version": 3
   },
   "file_extension": ".py",
   "mimetype": "text/x-python",
   "name": "python",
   "nbconvert_exporter": "python",
   "pygments_lexer": "ipython3",
   "version": "3.9.13"
  }
 },
 "nbformat": 4,
 "nbformat_minor": 5
}
