{
 "cells": [
  {
   "cell_type": "code",
   "execution_count": 1,
   "id": "4d820125",
   "metadata": {},
   "outputs": [],
   "source": [
    "import os\n",
    "from keras.models import Sequential\n",
    "from keras.layers import Conv2D, MaxPooling2D, Flatten, Dense\n",
    "from keras.preprocessing.image import ImageDataGenerator"
   ]
  },
  {
   "cell_type": "code",
   "execution_count": 2,
   "id": "9c51c066",
   "metadata": {},
   "outputs": [],
   "source": [
    "train_dir = 'data/train'\n",
    "validation_dir = 'data/valid'\n",
    "test_dir = 'data/test'"
   ]
  },
  {
   "cell_type": "code",
   "execution_count": 3,
   "id": "b647cd2d",
   "metadata": {},
   "outputs": [],
   "source": [
    "# Define data augmentation\n",
    "train_datagen = ImageDataGenerator(\n",
    "    rescale=1./255,\n",
    "    rotation_range=20,\n",
    "    width_shift_range=0.1,\n",
    "    height_shift_range=0.1,\n",
    "    zoom_range=0.1,\n",
    "    horizontal_flip=True,\n",
    "    vertical_flip=True,\n",
    "    fill_mode='nearest'\n",
    ")\n",
    "\n",
    "test_datagen = ImageDataGenerator(rescale=1./255)"
   ]
  },
  {
   "cell_type": "code",
   "execution_count": 4,
   "id": "3cb611d1",
   "metadata": {},
   "outputs": [
    {
     "name": "stdout",
     "output_type": "stream",
     "text": [
      "Found 3615 images belonging to 30 classes.\n",
      "Found 150 images belonging to 30 classes.\n",
      "Found 150 images belonging to 30 classes.\n"
     ]
    }
   ],
   "source": [
    "# Load and preprocess the data\n",
    "train_generator = train_datagen.flow_from_directory(\n",
    "    train_dir,\n",
    "    target_size=(224, 224),\n",
    "    batch_size=32,\n",
    "    class_mode='categorical'\n",
    ")\n",
    "\n",
    "validation_generator = test_datagen.flow_from_directory(\n",
    "    validation_dir,\n",
    "    target_size=(224, 224),\n",
    "    batch_size=32,\n",
    "    class_mode='categorical'\n",
    ")\n",
    "\n",
    "test_generator = test_datagen.flow_from_directory(\n",
    "    test_dir,\n",
    "    target_size=(224, 224),\n",
    "    batch_size=32,\n",
    "    class_mode='categorical'\n",
    ")"
   ]
  },
  {
   "cell_type": "code",
   "execution_count": 5,
   "id": "6e89fe16",
   "metadata": {},
   "outputs": [],
   "source": [
    "# Define the model architecture\n",
    "model = Sequential()\n",
    "model.add(Conv2D(32, (3, 3), activation='relu', input_shape=(224, 224, 3)))\n",
    "model.add(MaxPooling2D((2, 2)))\n",
    "model.add(Conv2D(64, (3, 3), activation='relu'))\n",
    "model.add(MaxPooling2D((2, 2)))\n",
    "model.add(Conv2D(128, (3, 3), activation='relu'))\n",
    "model.add(MaxPooling2D((2, 2)))\n",
    "model.add(Conv2D(128, (3, 3), activation='relu'))\n",
    "model.add(MaxPooling2D((2, 2)))\n",
    "model.add(Flatten())\n",
    "model.add(Dense(512, activation='relu'))\n",
    "model.add(Dense(train_generator.num_classes, activation='softmax'))\n",
    "\n",
    "# Compile the model\n",
    "model.compile(loss='categorical_crossentropy',\n",
    "              optimizer='adam',\n",
    "              metrics=['accuracy'])"
   ]
  },
  {
   "cell_type": "code",
   "execution_count": 6,
   "id": "cee668b6",
   "metadata": {},
   "outputs": [
    {
     "name": "stdout",
     "output_type": "stream",
     "text": [
      "Epoch 1/50\n",
      "112/112 [==============================] - 44s 383ms/step - loss: 3.0592 - accuracy: 0.1549 - val_loss: 2.3542 - val_accuracy: 0.3200\n",
      "Epoch 2/50\n",
      "112/112 [==============================] - 44s 384ms/step - loss: 2.1748 - accuracy: 0.3820 - val_loss: 2.1425 - val_accuracy: 0.3667\n",
      "Epoch 3/50\n",
      "112/112 [==============================] - 44s 389ms/step - loss: 1.8010 - accuracy: 0.4852 - val_loss: 1.4785 - val_accuracy: 0.5533\n",
      "Epoch 4/50\n",
      "112/112 [==============================] - 44s 386ms/step - loss: 1.5270 - accuracy: 0.5571 - val_loss: 1.4725 - val_accuracy: 0.5133\n",
      "Epoch 5/50\n",
      "112/112 [==============================] - 44s 387ms/step - loss: 1.3681 - accuracy: 0.5986 - val_loss: 1.2470 - val_accuracy: 0.6067\n",
      "Epoch 6/50\n",
      "112/112 [==============================] - 44s 389ms/step - loss: 1.2215 - accuracy: 0.6454 - val_loss: 1.1031 - val_accuracy: 0.6600\n",
      "Epoch 7/50\n",
      "112/112 [==============================] - 44s 385ms/step - loss: 1.0812 - accuracy: 0.6716 - val_loss: 1.2508 - val_accuracy: 0.6200\n",
      "Epoch 8/50\n",
      "112/112 [==============================] - 44s 390ms/step - loss: 1.0155 - accuracy: 0.6860 - val_loss: 1.0416 - val_accuracy: 0.7133\n",
      "Epoch 9/50\n",
      "112/112 [==============================] - 44s 386ms/step - loss: 0.9629 - accuracy: 0.7104 - val_loss: 1.0820 - val_accuracy: 0.7000\n",
      "Epoch 10/50\n",
      "112/112 [==============================] - 44s 385ms/step - loss: 0.9001 - accuracy: 0.7297 - val_loss: 1.2381 - val_accuracy: 0.6667\n",
      "Epoch 11/50\n",
      "112/112 [==============================] - 44s 384ms/step - loss: 0.7777 - accuracy: 0.7635 - val_loss: 1.1401 - val_accuracy: 0.7000\n",
      "Epoch 12/50\n",
      "112/112 [==============================] - 43s 382ms/step - loss: 0.7490 - accuracy: 0.7696 - val_loss: 0.8637 - val_accuracy: 0.7200\n",
      "Epoch 13/50\n",
      "112/112 [==============================] - 43s 377ms/step - loss: 0.7012 - accuracy: 0.7845 - val_loss: 0.8542 - val_accuracy: 0.7533\n",
      "Epoch 14/50\n",
      "112/112 [==============================] - 44s 387ms/step - loss: 0.6794 - accuracy: 0.7853 - val_loss: 0.8687 - val_accuracy: 0.7467\n",
      "Epoch 15/50\n",
      "112/112 [==============================] - 43s 378ms/step - loss: 0.6738 - accuracy: 0.7817 - val_loss: 0.8395 - val_accuracy: 0.7667\n",
      "Epoch 16/50\n",
      "112/112 [==============================] - 43s 383ms/step - loss: 0.6232 - accuracy: 0.8033 - val_loss: 0.9074 - val_accuracy: 0.6867\n",
      "Epoch 17/50\n",
      "112/112 [==============================] - 45s 394ms/step - loss: 0.5407 - accuracy: 0.8332 - val_loss: 0.8882 - val_accuracy: 0.7133\n",
      "Epoch 18/50\n",
      "112/112 [==============================] - 43s 378ms/step - loss: 0.5661 - accuracy: 0.8152 - val_loss: 1.0167 - val_accuracy: 0.7333\n",
      "Epoch 19/50\n",
      "112/112 [==============================] - 44s 388ms/step - loss: 0.5240 - accuracy: 0.8288 - val_loss: 0.9658 - val_accuracy: 0.7533\n",
      "Epoch 20/50\n",
      "112/112 [==============================] - 43s 379ms/step - loss: 0.4821 - accuracy: 0.8437 - val_loss: 0.9201 - val_accuracy: 0.7400\n",
      "Epoch 21/50\n",
      "112/112 [==============================] - 43s 380ms/step - loss: 0.4929 - accuracy: 0.8420 - val_loss: 0.9211 - val_accuracy: 0.7667\n",
      "Epoch 22/50\n",
      "112/112 [==============================] - 43s 377ms/step - loss: 0.4336 - accuracy: 0.8625 - val_loss: 0.8821 - val_accuracy: 0.7200\n",
      "Epoch 23/50\n",
      "112/112 [==============================] - 43s 379ms/step - loss: 0.4126 - accuracy: 0.8614 - val_loss: 1.0263 - val_accuracy: 0.7200\n",
      "Epoch 24/50\n",
      "112/112 [==============================] - 43s 381ms/step - loss: 0.4005 - accuracy: 0.8639 - val_loss: 0.9332 - val_accuracy: 0.7800\n",
      "Epoch 25/50\n",
      "112/112 [==============================] - 43s 383ms/step - loss: 0.3890 - accuracy: 0.8692 - val_loss: 0.7828 - val_accuracy: 0.7867\n",
      "Epoch 26/50\n",
      "112/112 [==============================] - 43s 377ms/step - loss: 0.3822 - accuracy: 0.8783 - val_loss: 0.9250 - val_accuracy: 0.7200\n",
      "Epoch 27/50\n",
      "112/112 [==============================] - 43s 379ms/step - loss: 0.3711 - accuracy: 0.8775 - val_loss: 1.0707 - val_accuracy: 0.7600\n",
      "Epoch 28/50\n",
      "112/112 [==============================] - 43s 376ms/step - loss: 0.3818 - accuracy: 0.8769 - val_loss: 1.0651 - val_accuracy: 0.7333\n",
      "Epoch 29/50\n",
      "112/112 [==============================] - 43s 376ms/step - loss: 0.3891 - accuracy: 0.8750 - val_loss: 0.9280 - val_accuracy: 0.7867\n",
      "Epoch 30/50\n",
      "112/112 [==============================] - 43s 376ms/step - loss: 0.3243 - accuracy: 0.8943 - val_loss: 0.8675 - val_accuracy: 0.7667\n",
      "Epoch 31/50\n",
      "112/112 [==============================] - 43s 382ms/step - loss: 0.2791 - accuracy: 0.9095 - val_loss: 0.9275 - val_accuracy: 0.7600\n",
      "Epoch 32/50\n",
      "112/112 [==============================] - 43s 376ms/step - loss: 0.3286 - accuracy: 0.8918 - val_loss: 0.9282 - val_accuracy: 0.7800\n",
      "Epoch 33/50\n",
      "112/112 [==============================] - 43s 375ms/step - loss: 0.2710 - accuracy: 0.9104 - val_loss: 0.8920 - val_accuracy: 0.7800\n",
      "Epoch 34/50\n",
      "112/112 [==============================] - 43s 380ms/step - loss: 0.2759 - accuracy: 0.9098 - val_loss: 1.1461 - val_accuracy: 0.7600\n",
      "Epoch 35/50\n",
      "112/112 [==============================] - 42s 373ms/step - loss: 0.2960 - accuracy: 0.9007 - val_loss: 1.0405 - val_accuracy: 0.7933\n",
      "Epoch 36/50\n",
      "112/112 [==============================] - 43s 376ms/step - loss: 0.2922 - accuracy: 0.9071 - val_loss: 0.8656 - val_accuracy: 0.8000\n",
      "Epoch 37/50\n",
      "112/112 [==============================] - 45s 393ms/step - loss: 0.2498 - accuracy: 0.9154 - val_loss: 0.9536 - val_accuracy: 0.8000\n",
      "Epoch 38/50\n",
      "112/112 [==============================] - 44s 390ms/step - loss: 0.2606 - accuracy: 0.9165 - val_loss: 1.2507 - val_accuracy: 0.7200\n",
      "Epoch 39/50\n",
      "112/112 [==============================] - 44s 387ms/step - loss: 0.2315 - accuracy: 0.9234 - val_loss: 1.2695 - val_accuracy: 0.8000\n",
      "Epoch 40/50\n",
      "112/112 [==============================] - 44s 391ms/step - loss: 0.2625 - accuracy: 0.9131 - val_loss: 0.9097 - val_accuracy: 0.7667\n",
      "Epoch 41/50\n",
      "112/112 [==============================] - 44s 388ms/step - loss: 0.2204 - accuracy: 0.9278 - val_loss: 0.9873 - val_accuracy: 0.8067\n",
      "Epoch 42/50\n",
      "112/112 [==============================] - 44s 387ms/step - loss: 0.2485 - accuracy: 0.9176 - val_loss: 1.1242 - val_accuracy: 0.8067\n",
      "Epoch 43/50\n",
      "112/112 [==============================] - 44s 388ms/step - loss: 0.2402 - accuracy: 0.9212 - val_loss: 1.2113 - val_accuracy: 0.8133\n",
      "Epoch 44/50\n",
      "112/112 [==============================] - 45s 396ms/step - loss: 0.2428 - accuracy: 0.9250 - val_loss: 1.3159 - val_accuracy: 0.7600\n",
      "Epoch 45/50\n",
      "112/112 [==============================] - 44s 391ms/step - loss: 0.2076 - accuracy: 0.9331 - val_loss: 1.2451 - val_accuracy: 0.7667\n",
      "Epoch 46/50\n",
      "112/112 [==============================] - 44s 391ms/step - loss: 0.2257 - accuracy: 0.9267 - val_loss: 1.1182 - val_accuracy: 0.7600\n",
      "Epoch 47/50\n",
      "112/112 [==============================] - 45s 395ms/step - loss: 0.2248 - accuracy: 0.9242 - val_loss: 0.9790 - val_accuracy: 0.7267\n",
      "Epoch 48/50\n",
      "112/112 [==============================] - 44s 389ms/step - loss: 0.2262 - accuracy: 0.9264 - val_loss: 1.2396 - val_accuracy: 0.7800\n",
      "Epoch 49/50\n",
      "112/112 [==============================] - 44s 388ms/step - loss: 0.1949 - accuracy: 0.9386 - val_loss: 1.1610 - val_accuracy: 0.7733\n",
      "Epoch 50/50\n",
      "112/112 [==============================] - 45s 398ms/step - loss: 0.2468 - accuracy: 0.9225 - val_loss: 1.0727 - val_accuracy: 0.7600\n"
     ]
    }
   ],
   "source": [
    "# Train the model with data augmentation\n",
    "history = model.fit(\n",
    "    train_generator,\n",
    "    steps_per_epoch=train_generator.samples/train_generator.batch_size,\n",
    "    epochs=50,\n",
    "    validation_data=validation_generator,\n",
    "    validation_steps=validation_generator.samples/validation_generator.batch_size\n",
    ")"
   ]
  },
  {
   "cell_type": "code",
   "execution_count": 7,
   "id": "145b4520",
   "metadata": {},
   "outputs": [
    {
     "name": "stdout",
     "output_type": "stream",
     "text": [
      "Test accuracy: 72.67%\n"
     ]
    }
   ],
   "source": [
    "# Evaluate the model on the test set\n",
    "scores = model.evaluate(test_generator, verbose=0)\n",
    "print(\"Test accuracy: %.2f%%\" % (scores[1]*100))"
   ]
  },
  {
   "cell_type": "code",
   "execution_count": 8,
   "id": "0b14b967",
   "metadata": {},
   "outputs": [],
   "source": [
    "# Save the model to a file\n",
    "model.save('ball_classifier.h5')"
   ]
  },
  {
   "cell_type": "code",
   "execution_count": null,
   "id": "b8c3985a",
   "metadata": {},
   "outputs": [],
   "source": []
  }
 ],
 "metadata": {
  "kernelspec": {
   "display_name": "Python 3 (ipykernel)",
   "language": "python",
   "name": "python3"
  },
  "language_info": {
   "codemirror_mode": {
    "name": "ipython",
    "version": 3
   },
   "file_extension": ".py",
   "mimetype": "text/x-python",
   "name": "python",
   "nbconvert_exporter": "python",
   "pygments_lexer": "ipython3",
   "version": "3.9.13"
  }
 },
 "nbformat": 4,
 "nbformat_minor": 5
}
